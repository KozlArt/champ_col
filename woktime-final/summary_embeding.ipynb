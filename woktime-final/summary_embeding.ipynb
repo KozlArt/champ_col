{
 "cells": [
  {
   "cell_type": "code",
   "execution_count": 1,
   "metadata": {
    "id": "ybo2N88GdS90"
   },
   "outputs": [],
   "source": [
    "import pandas as pd\n",
    "import numpy as np\n",
    "from tqdm import tqdm"
   ]
  },
  {
   "cell_type": "code",
   "execution_count": null,
   "metadata": {},
   "outputs": [],
   "source": [
    "!pip install -U sentence-transformers"
   ]
  },
  {
   "cell_type": "markdown",
   "metadata": {
    "id": "1NLC3MaY_ST3"
   },
   "source": [
    "## Stackoverflow mnst эмбединги"
   ]
  },
  {
   "cell_type": "code",
   "execution_count": 2,
   "metadata": {
    "id": "U6ClMD-iPPNK"
   },
   "outputs": [],
   "source": [
    "data = pd.read_csv(\"/content/train_issues_en.csv\")\n",
    "data_sub = pd.read_csv(\"/content/test_issues_en.csv\")"
   ]
  },
  {
   "cell_type": "markdown",
   "metadata": {},
   "source": [
    "pip install sentence_transformers"
   ]
  },
  {
   "cell_type": "code",
   "execution_count": 3,
   "metadata": {
    "id": "dzfOL-tT_UnH"
   },
   "outputs": [
    {
     "data": {
      "application/vnd.jupyter.widget-view+json": {
       "model_id": "b710d9d6c8544c3fab53789d210ef9de",
       "version_major": 2,
       "version_minor": 0
      },
      "text/plain": [
       "Downloading:   0%|          | 0.00/737 [00:00<?, ?B/s]"
      ]
     },
     "metadata": {},
     "output_type": "display_data"
    },
    {
     "data": {
      "application/vnd.jupyter.widget-view+json": {
       "model_id": "3d9e9b623d024426b03ab5869348ce3b",
       "version_major": 2,
       "version_minor": 0
      },
      "text/plain": [
       "Downloading:   0%|          | 0.00/190 [00:00<?, ?B/s]"
      ]
     },
     "metadata": {},
     "output_type": "display_data"
    },
    {
     "data": {
      "application/vnd.jupyter.widget-view+json": {
       "model_id": "32b944779ec347bcb1188dd12d735b40",
       "version_major": 2,
       "version_minor": 0
      },
      "text/plain": [
       "Downloading:   0%|          | 0.00/3.66k [00:00<?, ?B/s]"
      ]
     },
     "metadata": {},
     "output_type": "display_data"
    },
    {
     "data": {
      "application/vnd.jupyter.widget-view+json": {
       "model_id": "e8983809d4ae45b5acfe84f4af5102be",
       "version_major": 2,
       "version_minor": 0
      },
      "text/plain": [
       "Downloading:   0%|          | 0.00/571 [00:00<?, ?B/s]"
      ]
     },
     "metadata": {},
     "output_type": "display_data"
    },
    {
     "data": {
      "application/vnd.jupyter.widget-view+json": {
       "model_id": "48974381caec4de68f906c075bdeef7e",
       "version_major": 2,
       "version_minor": 0
      },
      "text/plain": [
       "Downloading:   0%|          | 0.00/116 [00:00<?, ?B/s]"
      ]
     },
     "metadata": {},
     "output_type": "display_data"
    },
    {
     "data": {
      "application/vnd.jupyter.widget-view+json": {
       "model_id": "2aaaf169c0d3402892cee874a9db1d37",
       "version_major": 2,
       "version_minor": 0
      },
      "text/plain": [
       "Downloading:   0%|          | 0.00/133 [00:00<?, ?B/s]"
      ]
     },
     "metadata": {},
     "output_type": "display_data"
    },
    {
     "data": {
      "application/vnd.jupyter.widget-view+json": {
       "model_id": "b78e83a04663464b9da0e2455e5d8ab7",
       "version_major": 2,
       "version_minor": 0
      },
      "text/plain": [
       "Downloading:   0%|          | 0.00/438M [00:00<?, ?B/s]"
      ]
     },
     "metadata": {},
     "output_type": "display_data"
    },
    {
     "data": {
      "application/vnd.jupyter.widget-view+json": {
       "model_id": "4f530aca39f44d61a072920f98627aef",
       "version_major": 2,
       "version_minor": 0
      },
      "text/plain": [
       "Downloading:   0%|          | 0.00/53.0 [00:00<?, ?B/s]"
      ]
     },
     "metadata": {},
     "output_type": "display_data"
    },
    {
     "data": {
      "application/vnd.jupyter.widget-view+json": {
       "model_id": "d763c5b30bfe4e788a0343114a3e2b0b",
       "version_major": 2,
       "version_minor": 0
      },
      "text/plain": [
       "Downloading:   0%|          | 0.00/239 [00:00<?, ?B/s]"
      ]
     },
     "metadata": {},
     "output_type": "display_data"
    },
    {
     "data": {
      "application/vnd.jupyter.widget-view+json": {
       "model_id": "ded3f8fa244f4162978439b3befc4e15",
       "version_major": 2,
       "version_minor": 0
      },
      "text/plain": [
       "Downloading:   0%|          | 0.00/466k [00:00<?, ?B/s]"
      ]
     },
     "metadata": {},
     "output_type": "display_data"
    },
    {
     "data": {
      "application/vnd.jupyter.widget-view+json": {
       "model_id": "5f9d315e5e344b60a5e63f3600819c3c",
       "version_major": 2,
       "version_minor": 0
      },
      "text/plain": [
       "Downloading:   0%|          | 0.00/363 [00:00<?, ?B/s]"
      ]
     },
     "metadata": {},
     "output_type": "display_data"
    },
    {
     "data": {
      "application/vnd.jupyter.widget-view+json": {
       "model_id": "b36349863e3a491dbf1b60dd45b69f16",
       "version_major": 2,
       "version_minor": 0
      },
      "text/plain": [
       "Downloading:   0%|          | 0.00/8.11k [00:00<?, ?B/s]"
      ]
     },
     "metadata": {},
     "output_type": "display_data"
    },
    {
     "data": {
      "application/vnd.jupyter.widget-view+json": {
       "model_id": "afdac36893b44c5b9fafb12e16901fc2",
       "version_major": 2,
       "version_minor": 0
      },
      "text/plain": [
       "Downloading:   0%|          | 0.00/232k [00:00<?, ?B/s]"
      ]
     },
     "metadata": {},
     "output_type": "display_data"
    },
    {
     "data": {
      "application/vnd.jupyter.widget-view+json": {
       "model_id": "d6dfa2c9411546b6b8b42805c1bc716d",
       "version_major": 2,
       "version_minor": 0
      },
      "text/plain": [
       "Downloading:   0%|          | 0.00/349 [00:00<?, ?B/s]"
      ]
     },
     "metadata": {},
     "output_type": "display_data"
    }
   ],
   "source": [
    "from sentence_transformers import SentenceTransformer\n",
    "model = SentenceTransformer('flax-sentence-embeddings/stackoverflow_mpnet-base')"
   ]
  },
  {
   "cell_type": "code",
   "execution_count": null,
   "metadata": {
    "colab": {
     "base_uri": "https://localhost:8080/"
    },
    "id": "vhU0-O7Q_Yoh",
    "outputId": "a81805db-1863-4df0-9191-98131738fb5c"
   },
   "outputs": [],
   "source": [
    "embed = []\n",
    "for i, text in tqdm(enumerate(data[\"summary\"])):\n",
    "  text_embbedding = model.encode(text)\n",
    "  embed.append(text_embbedding)"
   ]
  },
  {
   "cell_type": "code",
   "execution_count": null,
   "metadata": {
    "colab": {
     "base_uri": "https://localhost:8080/"
    },
    "id": "hF21cj6CBHqD",
    "outputId": "68e21bb0-1043-4a01-c935-ab993312e417"
   },
   "outputs": [],
   "source": [
    "embed_sub = []\n",
    "for i, text in tqdm(enumerate(data_sub[\"summary\"])):\n",
    "  text_embbedding = model.encode(text)\n",
    "  embed_sub.append(text_embbedding)"
   ]
  },
  {
   "cell_type": "code",
   "execution_count": null,
   "metadata": {
    "colab": {
     "base_uri": "https://localhost:8080/"
    },
    "id": "FhuvbBTTBTTf",
    "outputId": "7c2c2a86-572f-4cc2-e7d5-c1f49ba2e1e1"
   },
   "outputs": [],
   "source": [
    "print(len(embed))\n",
    "print(len(data[\"summary\"]), end = '\\n\\n')\n",
    "print(len(embed[0]))"
   ]
  },
  {
   "cell_type": "markdown",
   "metadata": {},
   "source": [
    "### укорачиваем данные"
   ]
  },
  {
   "cell_type": "code",
   "execution_count": 17,
   "metadata": {
    "colab": {
     "base_uri": "https://localhost:8080/"
    },
    "id": "F0z1wyADBaWt",
    "outputId": "ed41c290-4624-4613-fc48-a28cadb378a8"
   },
   "outputs": [
    {
     "name": "stdout",
     "output_type": "stream",
     "text": [
      "[0.02646184 0.0460193  0.03675475 0.03144106 0.02906055 0.02458593\n",
      " 0.02269428 0.0210117  0.01998292 0.01842309 0.01636043 0.01617798\n",
      " 0.01549486 0.01431027 0.01347075 0.01340217 0.01263813 0.01245056\n",
      " 0.01227735 0.01117486 0.01069813 0.01039103 0.01000077 0.00926322\n",
      " 0.00909323]\n"
     ]
    }
   ],
   "source": [
    "from sklearn.decomposition import PCA, TruncatedSVD\n",
    "\n",
    "SVD = TruncatedSVD(n_components=25)\n",
    "SVD.fit(embed)\n",
    "print(SVD.explained_variance_ratio_)\n",
    "\n",
    "svd_train = SVD.transform(embed)\n",
    "svd_sub = SVD.transform(embed_sub)"
   ]
  },
  {
   "cell_type": "code",
   "execution_count": 18,
   "metadata": {
    "id": "KMWCoLOzIj2P"
   },
   "outputs": [],
   "source": [
    "stackmnst_train_25svd = pd.DataFrame()\n",
    "stackmnst_train_25svd[\"id\"] = data[\"id\"]\n",
    "for i in range(len(svd_train[0])):\n",
    "  stackmnst_train_25svd[\"bert-\"+str(i)] = np.array(svd_train)[:, i]\n",
    "stackmnst_train_25svd.to_csv(\"/content/stackmnst_train_25svd.csv\")"
   ]
  },
  {
   "cell_type": "code",
   "execution_count": 19,
   "metadata": {
    "id": "ieKigFDbJmhi"
   },
   "outputs": [],
   "source": [
    "stackmnst_sub_25svd = pd.DataFrame()\n",
    "stackmnst_sub_25svd[\"id\"] = data_sub[\"id\"]\n",
    "for i in range(len(svd_sub[0])):\n",
    "  stackmnst_sub_25svd[\"bert-\"+str(i)] = np.array(svd_sub)[:, i]\n",
    "stackmnst_sub_25svd.to_csv(\"/content/stackmnst_sub_25svd.csv\")"
   ]
  }
 ],
 "metadata": {
  "colab": {
   "collapsed_sections": [],
   "provenance": []
  },
  "kernelspec": {
   "display_name": "Python 3 (ipykernel)",
   "language": "python",
   "name": "python3"
  },
  "language_info": {
   "codemirror_mode": {
    "name": "ipython",
    "version": 3
   },
   "file_extension": ".py",
   "mimetype": "text/x-python",
   "name": "python",
   "nbconvert_exporter": "python",
   "pygments_lexer": "ipython3",
   "version": "3.9.12"
  }
 },
 "nbformat": 4,
 "nbformat_minor": 4
}
